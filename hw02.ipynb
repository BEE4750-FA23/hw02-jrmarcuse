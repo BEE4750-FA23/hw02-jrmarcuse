{
  "cells": [
    {
      "cell_type": "markdown",
      "id": "099fcb9c-ef1f-471e-aa52-990f463fe3c5",
      "metadata": {},
      "source": [
        "# BEE 4750 Homework 2: Dissolved Oxygen\n",
        "\n",
        "**Name**: Jonathan Marcuse\n",
        "\n",
        "**ID**: jrm564\n",
        "\n",
        "> **Due Date**\n",
        ">\n",
        "> Friday, 09/22/23, 9:00pm\n",
        "\n",
        "## Overview\n",
        "\n",
        "### Instructions\n",
        "\n",
        "This assignment asks you to use a simulation model for dissolved oxygen\n",
        "to assess the impacts of two wastewater streams, including minimum\n",
        "treatment levels and the impact of uncertain environmental conditions.\n",
        "You will also be asked to identify a minimum distance for the addition\n",
        "of a third discharge stream.\n",
        "\n",
        "### Load Environment\n",
        "\n",
        "The following code loads the environment and makes sure all needed\n",
        "packages are installed. This should be at the start of most Julia\n",
        "scripts."
      ]
    },
    {
      "cell_type": "code",
      "execution_count": 1,
      "id": "395abf3d",
      "metadata": {},
      "outputs": [
        {
          "name": "stderr",
          "output_type": "stream",
          "text": [
            "\u001b[32m\u001b[1m  Activating\u001b[22m\u001b[39m project at `~/Desktop/Cornell/Fall2023/BEE4750/hw02-jrmarcuse`\n"
          ]
        },
        {
          "name": "stderr",
          "output_type": "stream",
          "text": [
            "\u001b[32m\u001b[1m   Installed\u001b[22m\u001b[39m PDMats ────────────────── v0.11.17\n"
          ]
        },
        {
          "name": "stderr",
          "output_type": "stream",
          "text": [
            "\u001b[32m\u001b[1m   Installed\u001b[22m\u001b[39m Rmath_jll ─────────────── v0.4.0+0\n",
            "\u001b[32m\u001b[1m   Installed\u001b[22m\u001b[39m Calculus ──────────────── v0.5.1\n",
            "\u001b[32m\u001b[1m   Installed\u001b[22m\u001b[39m Rmath ─────────────────── v0.7.1\n",
            "\u001b[32m\u001b[1m   Installed\u001b[22m\u001b[39m DualNumbers ───────────── v0.6.8\n",
            "\u001b[32m\u001b[1m   Installed\u001b[22m\u001b[39m StatsFuns ─────────────── v1.3.0\n",
            "\u001b[32m\u001b[1m   Installed\u001b[22m\u001b[39m FillArrays ────────────── v1.4.1\n",
            "\u001b[32m\u001b[1m   Installed\u001b[22m\u001b[39m HypergeometricFunctions ─ v0.3.21\n",
            "\u001b[32m\u001b[1m   Installed\u001b[22m\u001b[39m QuadGK ────────────────── v2.8.2\n"
          ]
        },
        {
          "name": "stderr",
          "output_type": "stream",
          "text": [
            "\u001b[32m\u001b[1m   Installed\u001b[22m\u001b[39m Distributions ─────────── v0.25.98\n"
          ]
        },
        {
          "name": "stderr",
          "output_type": "stream",
          "text": [
            "\u001b[32m\u001b[1mPrecompiling\u001b[22m\u001b[39m "
          ]
        },
        {
          "name": "stderr",
          "output_type": "stream",
          "text": [
            "project...\n"
          ]
        },
        {
          "name": "stderr",
          "output_type": "stream",
          "text": [
            "\u001b[32m  ✓ \u001b[39m\u001b[90mCalculus\u001b[39m\n",
            "\u001b[32m  ✓ \u001b[39m\u001b[90mPDMats\u001b[39m\n",
            "\u001b[32m  ✓ \u001b[39m\u001b[90mRmath_jll\u001b[39m\n"
          ]
        },
        {
          "name": "stderr",
          "output_type": "stream",
          "text": [
            "\u001b[32m  ✓ \u001b[39m\u001b[90mFillArrays\u001b[39m\n",
            "\u001b[32m  ✓ \u001b[39m\u001b[90mQuadGK\u001b[39m\n"
          ]
        },
        {
          "name": "stderr",
          "output_type": "stream",
          "text": [
            "\u001b[32m  ✓ \u001b[39m\u001b[90mRmath\u001b[39m\n"
          ]
        },
        {
          "name": "stderr",
          "output_type": "stream",
          "text": [
            "\u001b[32m  ✓ \u001b[39m\u001b[90mDualNumbers\u001b[39m\n"
          ]
        },
        {
          "name": "stderr",
          "output_type": "stream",
          "text": [
            "\u001b[32m  ✓ \u001b[39m\u001b[90mHypergeometricFunctions\u001b[39m\n"
          ]
        },
        {
          "name": "stderr",
          "output_type": "stream",
          "text": [
            "\u001b[32m  ✓ \u001b[39m\u001b[90mStatsFuns\u001b[39m\n"
          ]
        },
        {
          "name": "stderr",
          "output_type": "stream",
          "text": [
            "\u001b[32m  ✓ \u001b[39mDistributions\n",
            "  10 dependencies successfully precompiled in 22 seconds. 140 already precompiled.\n"
          ]
        }
      ],
      "source": [
        "import Pkg\n",
        "Pkg.activate(@__DIR__)\n",
        "Pkg.instantiate()"
      ]
    },
    {
      "cell_type": "code",
      "execution_count": 2,
      "id": "26328b47",
      "metadata": {},
      "outputs": [],
      "source": [
        "using Plots\n",
        "using LaTeXStrings\n",
        "using Distributions"
      ]
    },
    {
      "cell_type": "markdown",
      "id": "b14f7dd1-d84b-42e3-bfb5-5fe12e7ac523",
      "metadata": {},
      "source": [
        "## Problems (Total: 40 Points)\n",
        "\n",
        "A river which flows at 6 km/d is receiving waste discharges from two\n",
        "sources which are 15 km apart, as shown in\n",
        "<a href=\"#fig-river\" class=\"quarto-xref\">Figure 1</a>. The oxygen\n",
        "reaeration rate is 0.55 day<sup>-1</sup>, and the decay rates of CBOD\n",
        "and NBOD are are 0.55 and 0.25 day<sup>-1</sup>, respectively. The\n",
        "river’s saturated dissolved oxygen concentration is 10m g/L.\n",
        "\n",
        "![Figure 1: Schematic of the\n",
        "system](attachment:figures/river_diagram.png)"
      ]
    },
    {
      "cell_type": "markdown",
      "id": "8d9711cb-a201-4f24-8e47-91e8e4670a63",
      "metadata": {},
      "source": [
        "### Problem 1 (8 points)\n",
        "\n",
        "If the characteristics of the river inflow and waste discharges are\n",
        "given in <a href=\"#tbl-river\" class=\"quarto-xref\">Table 1</a>, write a\n",
        "Julia model to compute the dissolved oxygen concentration from the first\n",
        "wastewater discharge to an arbitrary distance `d` km downstream. Use\n",
        "your model to compute the maximum dissolved oxygen concentration up to\n",
        "50km downstream and how far downriver this maximum occurs.\n",
        "\n",
        "|    Parameter     |            River Inflow |         Waste Stream 1 |         Waste Stream 2 |\n",
        "|:----------------:|------------------------:|-----------------------:|-----------------------:|\n",
        "|      Inflow      | 100,000 m<sup>3</sup>/d | 10,000 m<sup>3</sup>/d | 15,000 m<sup>3</sup>/d |\n",
        "| DO Concentration |                7.5 mg/L |                 5 mg/L |                 5 mg/L |\n",
        "|       CBOD       |                  5 mg/L |                50 mg/L |                45 mg/L |\n",
        "|       NBOD       |                  5 mg/L |                35 mg/L |                35 mg/L |\n",
        "\n",
        "Table 1: River inflow and waste stream characteristics for Problem 1."
      ]
    },
    {
      "cell_type": "markdown",
      "id": "0e93c34c-09f5-48d5-98af-15674255cfed",
      "metadata": {},
      "source": [
        "### Problem 2 (4 points)\n",
        "\n",
        "Use your model to plot the dissolved oxygen concentration in the river\n",
        "from the first waste stream to 50km downstream. What do you notice?"
      ]
    },
    {
      "cell_type": "markdown",
      "id": "6d098b0d-5a16-4711-8926-d63cad06a894",
      "metadata": {},
      "source": [
        "### Problem 3 (3 points)\n",
        "\n",
        "Under the assumptions of Problem 1, determine the distance from waste\n",
        "stream 2 it will take for the dissolved oxygen concentration of the\n",
        "river to recover to 6 mg/L."
      ]
    },
    {
      "cell_type": "markdown",
      "id": "ad5cdcb4-dbf9-4d56-bf03-12c2c4ca2de4",
      "metadata": {},
      "source": [
        "### Problem 4 (5 points)\n",
        "\n",
        "What is the minimum level of treatment (% removal of organic waste) for\n",
        "waste stream 2 that will ensure that the dissolved oxygen concentration\n",
        "never drops below 4 mg/L, assuming that waste stream 1 remains\n",
        "untreated?"
      ]
    },
    {
      "cell_type": "markdown",
      "id": "75a4d521-4a8e-49bd-9ddd-e3a04e545145",
      "metadata": {},
      "source": [
        "### Problem 5 (5 points)\n",
        "\n",
        "If both waste streams are treated equally, what is the minimum level of\n",
        "treatment (% removal of organic waste) for the two sources required to\n",
        "ensure that the dissolved oxygen concentration never drops below 4 mg/L?"
      ]
    },
    {
      "cell_type": "markdown",
      "id": "a31a496a-35d5-42e2-be89-35bd93269b75",
      "metadata": {},
      "source": [
        "### Problem 6 (5 points)\n",
        "\n",
        "Suppose you are responsible for designing a waste treatment plan for\n",
        "discharges into the river, with a regulatory mandate to keep the\n",
        "dissolved oxygen concentration above 4 mg/L. Discuss whether you’d opt\n",
        "to treat waste stream 2 alone or both waste streams equally. What other\n",
        "information might you need to make a conclusion, if any?"
      ]
    },
    {
      "cell_type": "markdown",
      "id": "87aecc56-2578-4e19-8ccb-065895c5dd3f",
      "metadata": {},
      "source": [
        "### Problem 7 (5 points)\n",
        "\n",
        "Suppose that it is known that the DO concentrations at the river inflow\n",
        "can vary uniformly between 6 mg/L and 8 mg/L. How often will the\n",
        "treatment plan identified in Problem 5 (both waste streams treated\n",
        "equally) fail to comply with the regulatory standard?"
      ]
    },
    {
      "cell_type": "markdown",
      "id": "049f84b1-c21c-4539-83e8-ea8a441d18d1",
      "metadata": {},
      "source": [
        "### Problem 8 (5 points)\n",
        "\n",
        "A factory is planning a third wastewater discharge into the river\n",
        "downstream of the second plant. This discharge would consist of 5\n",
        "m<sup>3</sup>/day of wastewater with a dissolved oxygen content of 4.5\n",
        "mg/L and CBOD and NBOD levels of 50 and 45 mg/L, respectively.\n",
        "\n",
        "Assume that the treatment plan you identified in Problem 5 is still in\n",
        "place for the existing discharges. If the third discharge will not be\n",
        "treated, under the original inflow conditions (7.5 mg/L DO), how far\n",
        "downstream from the second discharge does this third discharge need to\n",
        "be placed to keep the river concentration from dropping below 4 mg/L?"
      ]
    },
    {
      "cell_type": "markdown",
      "id": "beaf7155-2b73-4559-a2d2-b41e2eb1e1de",
      "metadata": {},
      "source": [
        "## References\n",
        "\n",
        "List any external references consulted, including classmates."
      ]
    }
  ],
  "metadata": {
    "kernelspec": {
      "display_name": "Julia 1.9.2",
      "language": "julia",
      "name": "julia-1.9"
    },
    "language_info": {
      "file_extension": ".jl",
      "mimetype": "application/julia",
      "name": "julia",
      "version": "1.9.2"
    }
  },
  "nbformat": 4,
  "nbformat_minor": 5
}
